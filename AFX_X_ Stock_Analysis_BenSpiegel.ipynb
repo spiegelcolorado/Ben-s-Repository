{
 "cells": [
  {
   "cell_type": "markdown",
   "metadata": {},
   "source": [
    "This exercise will require you to pull some data from the Qunadl API. Qaundl is currently the most widely used aggregator of financial market data."
   ]
  },
  {
   "cell_type": "markdown",
   "metadata": {},
   "source": [
    "As a first step, you will need to register a free account on the http://www.quandl.com website."
   ]
  },
  {
   "cell_type": "markdown",
   "metadata": {},
   "source": [
    "After you register, you will be provided with a unique API key, that you should store:"
   ]
  },
  {
   "cell_type": "code",
   "execution_count": 7,
   "metadata": {},
   "outputs": [],
   "source": [
    "# Store the API key as a string - according to PEP8, constants are always named in all upper case\n",
    "API_KEY = 'UHEuNeisNu_ejbVANUCz'"
   ]
  },
  {
   "cell_type": "markdown",
   "metadata": {},
   "source": [
    "Qaundl has a large number of data sources, but, unfortunately, most of them require a Premium subscription. Still, there are also a good number of free datasets."
   ]
  },
  {
   "cell_type": "markdown",
   "metadata": {},
   "source": [
    "For this mini project, we will focus on equities data from the Frankfurt Stock Exhange (FSE), which is available for free. We'll try and analyze the stock prices of a company called Carl Zeiss Meditec, which manufactures tools for eye examinations, as well as medical lasers for laser eye surgery: https://www.zeiss.com/meditec/int/home.html. The company is listed under the stock ticker AFX_X."
   ]
  },
  {
   "cell_type": "markdown",
   "metadata": {},
   "source": [
    "You can find the detailed Quandl API instructions here: https://docs.quandl.com/docs/time-series"
   ]
  },
  {
   "cell_type": "markdown",
   "metadata": {},
   "source": [
    "While there is a dedicated Python package for connecting to the Quandl API, we would prefer that you use the *requests* package, which can be easily downloaded using *pip* or *conda*. You can find the documentation for the package here: http://docs.python-requests.org/en/master/ "
   ]
  },
  {
   "cell_type": "markdown",
   "metadata": {},
   "source": [
    "Finally, apart from the *requests* package, you are encouraged to not use any third party Python packages, such as *pandas*, and instead focus on what's available in the Python Standard Library (the *collections* module might come in handy: https://pymotw.com/3/collections/ ).\n",
    "Also, since you won't have access to DataFrames, you are encouraged to us Python's native data structures - preferably dictionaries, though some questions can also be answered using lists.\n",
    "You can read more on these data structures here: https://docs.python.org/3/tutorial/datastructures.html"
   ]
  },
  {
   "cell_type": "markdown",
   "metadata": {},
   "source": [
    "Keep in mind that the JSON responses you will be getting from the API map almost one-to-one to Python's dictionaries. Unfortunately, they can be very nested, so make sure you read up on indexing dictionaries in the documentation provided above."
   ]
  },
  {
   "cell_type": "markdown",
   "metadata": {},
   "source": [
    "These are your tasks for this mini project:\n",
    "\n",
    "1. Collect data from the Franfurt Stock Exchange, for the ticker AFX_X, for the whole year 2017 (keep in mind that the date format is YYYY-MM-DD).\n",
    "2. Convert the returned JSON object into a Python dictionary.\n",
    "3. Calculate what the highest and lowest opening prices were for the stock in this period.\n",
    "4. What was the largest change in any one day (based on High and Low price)?\n",
    "5. What was the largest change between any two days (based on Closing Price)?\n",
    "6. What was the average daily trading volume during this year?\n",
    "7. (Optional) What was the median trading volume during this year. (Note: you may need to implement your own function for calculating the median.)"
   ]
  },
  {
   "cell_type": "markdown",
   "metadata": {},
   "source": [
    "- Below I imported the data set with the specified dates and then turned the data set into a dictionary"
   ]
  },
  {
   "cell_type": "code",
   "execution_count": 8,
   "metadata": {
    "scrolled": true
   },
   "outputs": [
    {
     "name": "stdout",
     "output_type": "stream",
     "text": [
      "created a dictionary:\n",
      "<class 'dict'>\n"
     ]
    }
   ],
   "source": [
    "from statistics import mean\n",
    "from statistics import median\n",
    "import requests\n",
    "import json\n",
    "url = 'https://www.quandl.com/api/v3/datasets/FSE/AFX_X.json?start_date=2017-01-01&end_date=2017-12-31&order=asc&api_key=UHEuNeisNu_ejbVANUCz'\n",
    "\n",
    "r = requests.get(url)\n",
    "\n",
    "AFX_X_dic = r.json()\n",
    "\n",
    "print('created a dictionary:')\n",
    "print(type(AFX_X_dic))"
   ]
  },
  {
   "cell_type": "markdown",
   "metadata": {},
   "source": [
    "Below I unpack the  nested dictionary.  I used the enumerate function to create an index for the column names as the data was indexed according to the column names."
   ]
  },
  {
   "cell_type": "code",
   "execution_count": 9,
   "metadata": {},
   "outputs": [
    {
     "name": "stdout",
     "output_type": "stream",
     "text": [
      "dict_keys(['id', 'dataset_code', 'database_code', 'name', 'description', 'refreshed_at', 'newest_available_date', 'oldest_available_date', 'column_names', 'frequency', 'type', 'premium', 'limit', 'transform', 'column_index', 'start_date', 'end_date', 'data', 'collapse', 'order', 'database_id'])\n",
      "(0, 'Date')\n",
      "(1, 'Open')\n",
      "(2, 'High')\n",
      "(3, 'Low')\n",
      "(4, 'Close')\n",
      "(5, 'Change')\n",
      "(6, 'Traded Volume')\n",
      "(7, 'Turnover')\n",
      "(8, 'Last Price of the Day')\n",
      "(9, 'Daily Traded Units')\n",
      "(10, 'Daily Turnover')\n"
     ]
    }
   ],
   "source": [
    "\n",
    "dictionario = (AFX_X_dic['dataset'])\n",
    "print(dictionario.keys())\n",
    "labels = (dictionario['column_names'])\n",
    "for name in enumerate(labels):\n",
    "    print(name)"
   ]
  },
  {
   "cell_type": "markdown",
   "metadata": {},
   "source": [
    "Added the values of individual daily opening prices to a list (opening_price_list) and found the maximum and minimum values of the list. "
   ]
  },
  {
   "cell_type": "code",
   "execution_count": 10,
   "metadata": {},
   "outputs": [
    {
     "name": "stdout",
     "output_type": "stream",
     "text": [
      " AFX_X's highest daily opening share price in 2017 was 53.11\n",
      " AFX_X's lowest daily opening share price in 2017 was 34.0\n"
     ]
    }
   ],
   "source": [
    "opening_price_list=[]\n",
    "for value in dictionario['data']:\n",
    "    if value[1] != None:\n",
    "        opening_price_list.append(value[1])\n",
    "\n",
    "\n",
    "print(f\" AFX_X's highest daily opening share price in 2017 was {max(opening_price_list)}\")\n",
    "print(f\" AFX_X's lowest daily opening share price in 2017 was {round(min(opening_price_list), 2)}\")\n"
   ]
  },
  {
   "cell_type": "raw",
   "metadata": {},
   "source": [
    "Below I solved for the  differences between the maximum and minimum price for every day of 2017. and added all values to the list \"change_list.\" I Then found the largest absolute value on the list. "
   ]
  },
  {
   "cell_type": "code",
   "execution_count": 11,
   "metadata": {
    "scrolled": false
   },
   "outputs": [
    {
     "name": "stdout",
     "output_type": "stream",
     "text": [
      " The maximum difference in share price of AFX_X over the course of one day was 2.81\n"
     ]
    }
   ],
   "source": [
    "\n",
    "\n",
    "change_list = []\n",
    "for num in dictionario['data']:\n",
    "    if num[3] != None and num[2] != None:\n",
    "        change = num[2] - num[3]\n",
    "        change = abs(change)\n",
    "        change_list.append(change)\n",
    "print(f' The maximum difference in share price of AFX_X over the course of one day was {round(max(change_list), 2)}' )\n",
    "\n",
    "\n"
   ]
  },
  {
   "cell_type": "markdown",
   "metadata": {},
   "source": [
    "created a function that calculates the absolute difference in the close price for consecutive days.  I Iterated over every trading day of 2017, applying the described function. Then found the largest of the list of all products"
   ]
  },
  {
   "cell_type": "code",
   "execution_count": 12,
   "metadata": {},
   "outputs": [
    {
     "name": "stdout",
     "output_type": "stream",
     "text": [
      "The greatest difference between AFX_X closing prices in two successive days was 2.56\n"
     ]
    }
   ],
   "source": [
    "close_price_difference=[]\n",
    "data_dic = dictionario['data']\n",
    "index = 0\n",
    "def day_to_day(index):\n",
    "    value1 = data_dic[index][4]\n",
    "    value2 = data_dic[index+1][4]\n",
    "    global close_price_difference\n",
    "    changed = (value2 - value1)\n",
    "    changed = abs(changed)\n",
    "    return close_price_difference.append(changed)\n",
    "\n",
    "for day in data_dic[:253]:\n",
    "    day_to_day(index)\n",
    "    index += 1\n",
    "\n",
    "close_max = round(max(close_price_difference), 2)\n",
    "print(f\"The greatest difference between AFX_X closing prices in two successive days was {close_max}\")"
   ]
  },
  {
   "cell_type": "markdown",
   "metadata": {},
   "source": [
    "Created a list of daily trade volumes. Then found the average and median daily trade volumes for the list. Was able to keep the code for this list the cleanes and shortes.\n"
   ]
  },
  {
   "cell_type": "code",
   "execution_count": 13,
   "metadata": {},
   "outputs": [
    {
     "name": "stdout",
     "output_type": "stream",
     "text": [
      " the average daily trading volume for AFX_X in 2017 was 89124.34\n",
      " the median daily trading volume for AFX_X in 2017 was 76286\n"
     ]
    }
   ],
   "source": [
    "volume_list = [volume[6] for volume in data_dic]\n",
    "print(f' the average daily trading volume for AFX_X in 2017 was {round(mean(volume_list),2)}')\n",
    "print(f' the median daily trading volume for AFX_X in 2017 was {round(median(volume_list))}')\n"
   ]
  },
  {
   "cell_type": "code",
   "execution_count": null,
   "metadata": {},
   "outputs": [],
   "source": []
  }
 ],
 "metadata": {
  "kernelspec": {
   "display_name": "Python 3",
   "language": "python",
   "name": "python3"
  },
  "language_info": {
   "codemirror_mode": {
    "name": "ipython",
    "version": 3
   },
   "file_extension": ".py",
   "mimetype": "text/x-python",
   "name": "python",
   "nbconvert_exporter": "python",
   "pygments_lexer": "ipython3",
   "version": "3.7.3"
  }
 },
 "nbformat": 4,
 "nbformat_minor": 2
}
